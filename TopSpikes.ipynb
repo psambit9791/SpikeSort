{
 "cells": [
  {
   "cell_type": "code",
   "execution_count": 1,
   "metadata": {
    "scrolled": true
   },
   "outputs": [
    {
     "name": "stdout",
     "output_type": "stream",
     "text": [
      "['', '/home/sambit/anaconda3/lib/python36.zip', '/home/sambit/anaconda3/lib/python3.6', '/home/sambit/anaconda3/lib/python3.6/lib-dynload', '/home/sambit/anaconda3/lib/python3.6/site-packages', '/home/sambit/anaconda3/lib/python3.6/site-packages/herdingspikes-0.2-py3.6-linux-x86_64.egg', '/home/sambit/anaconda3/lib/python3.6/site-packages/tqdm-4.23.4-py3.6.egg', '/home/sambit/anaconda3/lib/python3.6/site-packages/scikit_optimize-0.5.2-py3.6.egg', '/home/sambit/anaconda3/lib/python3.6/site-packages/scikit_learn_runnr-0.18.dev1-py3.6-linux-x86_64.egg', '/home/sambit/anaconda3/lib/python3.6/site-packages/IPython/extensions', '/home/sambit/.ipython', '../']\n"
     ]
    }
   ],
   "source": [
    "import warnings\n",
    "warnings.filterwarnings(\"ignore\")\n",
    "import sys\n",
    "sys.path.append('../')\n",
    "print(sys.path)\n",
    "from herdingspikes.hs2 import HSDetection\n",
    "from herdingspikes.probe import HierlmannVisapyEmulationProbe\n",
    "import matplotlib.pyplot as plt"
   ]
  },
  {
   "cell_type": "code",
   "execution_count": 2,
   "metadata": {},
   "outputs": [
    {
     "ename": "NameError",
     "evalue": "name 'h5py' is not defined",
     "output_type": "error",
     "traceback": [
      "\u001b[0;31m---------------------------------------------------------------------------\u001b[0m",
      "\u001b[0;31mNameError\u001b[0m                                 Traceback (most recent call last)",
      "\u001b[0;32m<ipython-input-2-ddbb05196b3c>\u001b[0m in \u001b[0;36m<module>\u001b[0;34m()\u001b[0m\n\u001b[1;32m      1\u001b[0m \u001b[0;31m# raw data location\u001b[0m\u001b[0;34m\u001b[0m\u001b[0;34m\u001b[0m\u001b[0m\n\u001b[1;32m      2\u001b[0m \u001b[0mfilename\u001b[0m \u001b[0;34m=\u001b[0m \u001b[0;34m\"../data/\"\u001b[0m\u001b[0;34m\u001b[0m\u001b[0m\n\u001b[0;32m----> 3\u001b[0;31m \u001b[0mrawdata\u001b[0m \u001b[0;34m=\u001b[0m \u001b[0mh5py\u001b[0m\u001b[0;34m.\u001b[0m\u001b[0mFile\u001b[0m\u001b[0;34m(\u001b[0m\u001b[0mfilename\u001b[0m\u001b[0;34m+\u001b[0m\u001b[0;34m'ViSAPy_nonfiltered.h5'\u001b[0m\u001b[0;34m,\u001b[0m\u001b[0;34m'r'\u001b[0m\u001b[0;34m)\u001b[0m\u001b[0;34m\u001b[0m\u001b[0m\n\u001b[0m\u001b[1;32m      4\u001b[0m \u001b[0;34m\u001b[0m\u001b[0m\n\u001b[1;32m      5\u001b[0m \u001b[0;31m# detection parameters\u001b[0m\u001b[0;34m\u001b[0m\u001b[0;34m\u001b[0m\u001b[0m\n",
      "\u001b[0;31mNameError\u001b[0m: name 'h5py' is not defined"
     ]
    }
   ],
   "source": [
    "# raw data location\n",
    "filename = \"../data/\"\n",
    "rawdata = h5py.File(filename+'ViSAPy_nonfiltered.h5','r')\n",
    "\n",
    "# detection parameters\n",
    "to_localize = True\n",
    "cutout_start = 14\n",
    "cutout_end = 36\n",
    "threshold = 12\n",
    "file_directory = 'results/'\n",
    "file_name = 'ProcessedSpikes_visapy'"
   ]
  },
  {
   "cell_type": "code",
   "execution_count": null,
   "metadata": {},
   "outputs": [],
   "source": [
    "Probe = HierlmannVisapyEmulationProbe(data_path)\n",
    "H = HSDetection(Probe, to_localize, cutout_start, cutout_end, threshold,\n",
    "                maa=0, maxsl=12, minsl=3, ahpthr=0, out_file_name=file_name, \n",
    "                file_directory_name=file_directory, save_all=True)"
   ]
  },
  {
   "cell_type": "code",
   "execution_count": null,
   "metadata": {},
   "outputs": [],
   "source": [
    "H.DetectFromRaw()\n",
    "H.LoadDetected()"
   ]
  }
 ],
 "metadata": {
  "kernelspec": {
   "display_name": "Python 3",
   "language": "python",
   "name": "python3"
  },
  "language_info": {
   "codemirror_mode": {
    "name": "ipython",
    "version": 3
   },
   "file_extension": ".py",
   "mimetype": "text/x-python",
   "name": "python",
   "nbconvert_exporter": "python",
   "pygments_lexer": "ipython3",
   "version": "3.6.4"
  }
 },
 "nbformat": 4,
 "nbformat_minor": 2
}
