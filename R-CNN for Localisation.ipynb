{
 "cells": [
  {
   "cell_type": "code",
   "execution_count": 1,
   "metadata": {},
   "outputs": [],
   "source": [
    "import warnings\n",
    "warnings.filterwarnings(\"ignore\")\n",
    "import sys\n",
    "from herdingspikes.hs2 import HSDetection\n",
    "from herdingspikes.probe import HierlmannVisapyEmulationProbe\n",
    "import matplotlib.pyplot as plt\n",
    "import h5py\n",
    "import numpy as np\n",
    "\n",
    "np.random.seed(0)"
   ]
  },
  {
   "cell_type": "code",
   "execution_count": 2,
   "metadata": {},
   "outputs": [],
   "source": [
    "import urllib\n",
    "file_url = 'https://datasync.ed.ac.uk/public.php/webdav'\n",
    "\n",
    "password_mgr = urllib.request.HTTPPasswordMgrWithDefaultRealm()\n",
    "password_mgr.add_password(None, file_url, \"GbnXJ5bU3m9JPau\", \"HS2\")\n",
    "handler = urllib.request.HTTPBasicAuthHandler(password_mgr)\n",
    "opener = urllib.request.build_opener(handler)\n",
    "opener.open(file_url)\n",
    "urllib.request.install_opener(opener)\n",
    "with urllib.request.urlopen(file_url) as response, open('visapy_data.npy', 'wb') as out_file:\n",
    "    data = response.read()\n",
    "    out_file.write(data)\n",
    "\n",
    "# raw data location\n",
    "data_path = 'visapy_data.npy'"
   ]
  },
  {
   "cell_type": "code",
   "execution_count": 25,
   "metadata": {},
   "outputs": [],
   "source": [
    "# detection parameters\n",
    "to_localize = True\n",
    "cutout_start = 14\n",
    "cutout_end = 36\n",
    "threshold = 24\n",
    "file_directory = 'results/'\n",
    "file_name = 'ProcessedSpikes_visapy'"
   ]
  },
  {
   "cell_type": "code",
   "execution_count": 26,
   "metadata": {},
   "outputs": [
    {
     "name": "stdout",
     "output_type": "stream",
     "text": [
      "File size: 122400102\n",
      "Number of channels: 102\n",
      "# Sampling rate: 32000\n",
      "# Localization On\n",
      "# Not Masking any Channels\n",
      "# Writing out extended detection info\n",
      "# Number of recorded channels: 102\n",
      "# Analysing frames: 1200001, Seconds:37.50003125\n",
      "# Frames before spike in cutout: 32\n",
      "# Frames after spike in cutout: 70\n",
      "# tcuts: 44 59\n",
      "# tInc: 50000\n",
      "# Analysing 50000 frames; from -44 to 50059\n",
      "# Analysing 50000 frames; from 49956 to 100059\n",
      "# Analysing 50000 frames; from 99956 to 150059\n",
      "# Analysing 50000 frames; from 149956 to 200059\n",
      "# Analysing 50000 frames; from 199956 to 250059\n",
      "# Analysing 50000 frames; from 249956 to 300059\n",
      "# Analysing 50000 frames; from 299956 to 350059\n",
      "# Analysing 50000 frames; from 349956 to 400059\n",
      "# Analysing 50000 frames; from 399956 to 450059\n",
      "# Analysing 50000 frames; from 449956 to 500059\n",
      "# Analysing 50000 frames; from 499956 to 550059\n",
      "# Analysing 50000 frames; from 549956 to 600059\n",
      "# Analysing 50000 frames; from 599956 to 650059\n",
      "# Analysing 50000 frames; from 649956 to 700059\n",
      "# Analysing 50000 frames; from 699956 to 750059\n",
      "# Analysing 50000 frames; from 749956 to 800059\n",
      "# Analysing 50000 frames; from 799956 to 850059\n",
      "# Analysing 50000 frames; from 849956 to 900059\n",
      "# Analysing 50000 frames; from 899956 to 950059\n",
      "# Analysing 50000 frames; from 949956 to 1000059\n",
      "# Analysing 50000 frames; from 999956 to 1050059\n",
      "# Analysing 50000 frames; from 1049956 to 1100059\n",
      "# Analysing 50000 frames; from 1099956 to 1150059\n",
      "# Time taken for detection: 0:00:04.647599\n",
      "# Time per frame: 0:00:00.003873\n",
      "# Time per sample: 0:00:00.000038\n",
      "Detected and read 19341 spikes.\n"
     ]
    }
   ],
   "source": [
    "Probe = HierlmannVisapyEmulationProbe('visapy_data.npy')\n",
    "H = HSDetection(Probe, to_localize, cutout_start, cutout_end, threshold,\n",
    "                maa=0, maxsl=12, minsl=3, ahpthr=0, out_file_name=file_name, \n",
    "                file_directory_name=file_directory, save_all=True)\n",
    "H.DetectFromRaw()\n",
    "H.LoadDetected()"
   ]
  },
  {
   "cell_type": "code",
   "execution_count": 20,
   "metadata": {},
   "outputs": [],
   "source": [
    "x = np.load(data_path)"
   ]
  },
  {
   "cell_type": "code",
   "execution_count": 24,
   "metadata": {},
   "outputs": [
    {
     "name": "stdout",
     "output_type": "stream",
     "text": [
      "2400002.0\n"
     ]
    }
   ],
   "source": [
    "print(x.shape[0]/51)"
   ]
  },
  {
   "cell_type": "code",
   "execution_count": null,
   "metadata": {},
   "outputs": [],
   "source": [
    "import torch\n",
    "import torch.nn as nn\n",
    "from torch.autograd import Variable\n",
    "from torch.utils import data\n",
    "\n",
    "torch.cuda.set_device(0)\n",
    "torch.manual_seed(0)"
   ]
  },
  {
   "cell_type": "code",
   "execution_count": null,
   "metadata": {},
   "outputs": [],
   "source": []
  }
 ],
 "metadata": {
  "kernelspec": {
   "display_name": "Python 3",
   "language": "python",
   "name": "python3"
  },
  "language_info": {
   "codemirror_mode": {
    "name": "ipython",
    "version": 3
   },
   "file_extension": ".py",
   "mimetype": "text/x-python",
   "name": "python",
   "nbconvert_exporter": "python",
   "pygments_lexer": "ipython3",
   "version": "3.6.5"
  }
 },
 "nbformat": 4,
 "nbformat_minor": 2
}
