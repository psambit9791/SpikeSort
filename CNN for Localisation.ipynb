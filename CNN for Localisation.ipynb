{
 "cells": [
  {
   "cell_type": "markdown",
   "metadata": {},
   "source": [
    "## Importing Required Libraries"
   ]
  },
  {
   "cell_type": "code",
   "execution_count": 1,
   "metadata": {},
   "outputs": [],
   "source": [
    "import warnings\n",
    "warnings.filterwarnings(\"ignore\")\n",
    "import sys\n",
    "from herdingspikes.hs2 import HSDetection\n",
    "from herdingspikes.probe import HierlmannVisapyEmulationProbe\n",
    "import matplotlib.pyplot as plt\n",
    "import h5py\n",
    "import numpy as np\n",
    "from PIL import Image\n",
    "\n",
    "np.random.seed(0)"
   ]
  },
  {
   "cell_type": "code",
   "execution_count": 2,
   "metadata": {},
   "outputs": [],
   "source": [
    "import urllib\n",
    "file_url = 'https://datasync.ed.ac.uk/public.php/webdav'\n",
    "\n",
    "password_mgr = urllib.request.HTTPPasswordMgrWithDefaultRealm()\n",
    "password_mgr.add_password(None, file_url, \"GbnXJ5bU3m9JPau\", \"HS2\")\n",
    "handler = urllib.request.HTTPBasicAuthHandler(password_mgr)\n",
    "opener = urllib.request.build_opener(handler)\n",
    "opener.open(file_url)\n",
    "urllib.request.install_opener(opener)\n",
    "with urllib.request.urlopen(file_url) as response, open('visapy_data.npy', 'wb') as out_file:\n",
    "    data = response.read()\n",
    "    out_file.write(data)\n",
    "\n",
    "# raw data location\n",
    "data_path = 'visapy_data.npy'"
   ]
  },
  {
   "cell_type": "code",
   "execution_count": 3,
   "metadata": {},
   "outputs": [
    {
     "data": {
      "text/plain": [
       "<torch._C.Generator at 0x7f87a93d5490>"
      ]
     },
     "execution_count": 3,
     "metadata": {},
     "output_type": "execute_result"
    }
   ],
   "source": [
    "import torch\n",
    "import torch.nn as nn\n",
    "from torch.autograd import Variable\n",
    "from torch.utils import data\n",
    "\n",
    "torch.cuda.set_device(0)\n",
    "torch.manual_seed(0)"
   ]
  },
  {
   "cell_type": "markdown",
   "metadata": {},
   "source": [
    "## Spike Detection"
   ]
  },
  {
   "cell_type": "code",
   "execution_count": 4,
   "metadata": {},
   "outputs": [],
   "source": [
    "# detection parameters\n",
    "to_localize = True\n",
    "cutout_start = 14\n",
    "cutout_end = 36\n",
    "threshold = 24\n",
    "file_directory = 'results/'\n",
    "file_name = 'ProcessedSpikes_visapy'"
   ]
  },
  {
   "cell_type": "code",
   "execution_count": 5,
   "metadata": {},
   "outputs": [
    {
     "name": "stdout",
     "output_type": "stream",
     "text": [
      "File size: 122400102\n",
      "Number of channels: 102\n",
      "# Sampling rate: 32000\n",
      "# Localization On\n",
      "# Not Masking any Channels\n",
      "# Writing out extended detection info\n",
      "# Number of recorded channels: 102\n",
      "# Analysing frames: 1200001, Seconds:37.50003125\n",
      "# Frames before spike in cutout: 32\n",
      "# Frames after spike in cutout: 70\n",
      "# tcuts: 44 59\n",
      "# tInc: 50000\n",
      "# Analysing 50000 frames; from -44 to 50059\n",
      "# Analysing 50000 frames; from 49956 to 100059\n",
      "# Analysing 50000 frames; from 99956 to 150059\n",
      "# Analysing 50000 frames; from 149956 to 200059\n",
      "# Analysing 50000 frames; from 199956 to 250059\n",
      "# Analysing 50000 frames; from 249956 to 300059\n",
      "# Analysing 50000 frames; from 299956 to 350059\n",
      "# Analysing 50000 frames; from 349956 to 400059\n",
      "# Analysing 50000 frames; from 399956 to 450059\n",
      "# Analysing 50000 frames; from 449956 to 500059\n",
      "# Analysing 50000 frames; from 499956 to 550059\n",
      "# Analysing 50000 frames; from 549956 to 600059\n",
      "# Analysing 50000 frames; from 599956 to 650059\n",
      "# Analysing 50000 frames; from 649956 to 700059\n",
      "# Analysing 50000 frames; from 699956 to 750059\n",
      "# Analysing 50000 frames; from 749956 to 800059\n",
      "# Analysing 50000 frames; from 799956 to 850059\n",
      "# Analysing 50000 frames; from 849956 to 900059\n",
      "# Analysing 50000 frames; from 899956 to 950059\n",
      "# Analysing 50000 frames; from 949956 to 1000059\n",
      "# Analysing 50000 frames; from 999956 to 1050059\n",
      "# Analysing 50000 frames; from 1049956 to 1100059\n",
      "# Analysing 50000 frames; from 1099956 to 1150059\n",
      "# Time taken for detection: 0:00:04.653669\n",
      "# Time per frame: 0:00:00.003878\n",
      "# Time per sample: 0:00:00.000038\n",
      "Detected and read 19341 spikes.\n"
     ]
    }
   ],
   "source": [
    "Probe = HierlmannVisapyEmulationProbe('visapy_data.npy')\n",
    "H = HSDetection(Probe, to_localize, cutout_start, cutout_end, threshold,\n",
    "                maa=0, maxsl=12, minsl=3, ahpthr=0, out_file_name=file_name, \n",
    "                file_directory_name=file_directory, save_all=True)\n",
    "H.DetectFromRaw()\n",
    "H.LoadDetected()"
   ]
  },
  {
   "cell_type": "markdown",
   "metadata": {},
   "source": [
    "## Listing down all event frames"
   ]
  },
  {
   "cell_type": "markdown",
   "metadata": {},
   "source": [
    "##### There are 102 channels which have recorded 1200001 data points each. Hence we have 1200001 frames to assess"
   ]
  },
  {
   "cell_type": "code",
   "execution_count": 6,
   "metadata": {},
   "outputs": [],
   "source": [
    "data = np.load('visapy_data.npy')\n",
    "# i = 101\n",
    "# print(data[i*1200001: (i+1)*1200001])"
   ]
  },
  {
   "cell_type": "code",
   "execution_count": 7,
   "metadata": {},
   "outputs": [
    {
     "name": "stdout",
     "output_type": "stream",
     "text": [
      "Frame shape:  (1200001, 102)\n",
      "Whole Dataset:  [[  4.   7.   8. ...  23.  -6.   2.]\n",
      " [-18.   8.   2. ...  16.  -4. -21.]\n",
      " [  3.  -8.  27. ...  -2.  -2. -15.]\n",
      " ...\n",
      " [-24. -12.  12. ...  17. -39.  15.]\n",
      " [ -2.   7.  -3. ...   7. -12.   0.]\n",
      " [-26.  -7.   0. ...  32.  -1.  10.]]\n"
     ]
    }
   ],
   "source": [
    "total_frames = (int)(data.shape[0]/102)\n",
    "frame_set = np.zeros((102, total_frames))\n",
    "for i in range(102):\n",
    "    frame_set[i, :] = data[i*total_frames:(i+1)*total_frames]\n",
    "frame_set = frame_set.T\n",
    "print(\"Frame shape: \", frame_set.shape)\n",
    "print(\"Whole Dataset: \", frame_set)"
   ]
  },
  {
   "cell_type": "markdown",
   "metadata": {},
   "source": [
    "##### Finding electrode positions"
   ]
  },
  {
   "cell_type": "code",
   "execution_count": 8,
   "metadata": {},
   "outputs": [],
   "source": [
    "x_path = 'z_integer.npy'\n",
    "y_path = 'y_integer.npy'\n",
    "elec_x_int = np.load(x_path)\n",
    "elec_y_int = np.load(y_path)"
   ]
  },
  {
   "cell_type": "code",
   "execution_count": 9,
   "metadata": {},
   "outputs": [],
   "source": [
    "ky = 9 / np.max(np.diff(sorted(elec_y_int)))\n",
    "elec_x = elec_x_int * ky\n",
    "elec_y = elec_y_int * ky\n",
    "elec_x -= np.min(elec_x)\n",
    "elec_y -= np.min(elec_y)"
   ]
  },
  {
   "cell_type": "code",
   "execution_count": 10,
   "metadata": {
    "scrolled": true
   },
   "outputs": [
    {
     "name": "stdout",
     "output_type": "stream",
     "text": [
      "[[ 59.54058193 179.98346095]\n",
      " [  0.         233.97886677]\n",
      " [ 74.42572741 242.97794793]\n",
      " [ 59.54058193  17.99816233]\n",
      " [ 29.77029096  35.99632466]\n",
      " [ 59.54058193 143.98621746]\n",
      " [ 44.65543645 242.97794793]\n",
      " [ 14.88514548 296.97243492]\n",
      " [ 74.42572741  44.99540582]\n",
      " [  0.         107.9898928 ]\n",
      " [ 29.77029096 143.98621746]\n",
      " [  0.          17.99816233]\n",
      " [ 59.54058193  53.99448698]\n",
      " [ 44.65543645  80.99264931]\n",
      " [ 74.42572741 170.98437979]\n",
      " [ 44.65543645 206.98070444]\n",
      " [  0.         197.98162328]\n",
      " [ 14.88514548 278.97427259]\n",
      " [ 44.65543645 296.97243492]\n",
      " [ 14.88514548  44.99540582]\n",
      " [ 59.54058193  89.99173047]\n",
      " [  0.         215.9797856 ]\n",
      " [ 74.42572741 278.97427259]\n",
      " [ 14.88514548  26.99724349]\n",
      " [ 44.65543645  44.99540582]\n",
      " [ 44.65543645  98.99081164]\n",
      " [ 74.42572741 152.98621746]\n",
      " [ 29.77029096   0.        ]\n",
      " [ 74.42572741  26.99724349]\n",
      " [  0.          53.99448698]\n",
      " [ 44.65543645 134.98713629]\n",
      " [ 44.65543645  62.99356815]\n",
      " [ 59.54058193 287.97335375]\n",
      " [ 59.54058193 215.9797856 ]\n",
      " [ 59.54058193 251.9770291 ]\n",
      " [ 29.77029096  71.99356815]\n",
      " [ 44.65543645 260.97611026]\n",
      " [ 44.65543645 188.98254211]\n",
      " [ 14.88514548 134.98713629]\n",
      " [ 14.88514548  62.99356815]\n",
      " [ 29.77029096 287.97335375]\n",
      " [ 29.77029096 215.9797856 ]\n",
      " [ 29.77029096 179.98346095]\n",
      " [ 14.88514548 260.97611026]\n",
      " [ 14.88514548 188.98254211]\n",
      " [ 14.88514548 152.98621746]\n",
      " [ 14.88514548 116.98897397]\n",
      " [ 74.42572741  98.99081164]\n",
      " [ 59.54058193 269.97519142]\n",
      " [ 74.42572741 188.98254211]\n",
      " [  0.          89.99173047]\n",
      " [  0.          35.99632466]\n",
      " [ 44.65543645 278.97427259]\n",
      " [ 44.65543645 224.97886677]\n",
      " [ 74.42572741 206.98070444]\n",
      " [ 44.65543645 116.98897397]\n",
      " [ 29.77029096  17.99816233]\n",
      " [  0.         287.97335375]\n",
      " [ 74.42572741 260.97611026]\n",
      " [ 59.54058193 197.98162328]\n",
      " [  0.         161.98529862]\n",
      " [  0.         143.98621746]\n",
      " [ 74.42572741  62.99356815]\n",
      " [ 59.54058193   0.        ]\n",
      " [  0.           0.        ]\n",
      " [ 14.88514548 242.97794793]\n",
      " [ 44.65543645 170.98437979]\n",
      " [ 74.42572741 116.98897397]\n",
      " [  0.          71.99356815]\n",
      " [ 74.42572741   8.99908116]\n",
      " [ 29.77029096 251.9770291 ]\n",
      " [  0.         179.98346095]\n",
      " [ 74.42572741 134.98713629]\n",
      " [ 59.54058193  71.99356815]\n",
      " [ 29.77029096  53.99448698]\n",
      " [ 29.77029096 269.97519142]\n",
      " [ 74.42572741 296.97243492]\n",
      " [ 29.77029096 197.98162328]\n",
      " [ 59.54058193 161.98529862]\n",
      " [ 14.88514548 170.98437979]\n",
      " [ 14.88514548 206.98070444]\n",
      " [ 14.88514548 224.97886677]\n",
      " [  0.         125.98805513]\n",
      " [ 29.77029096 161.98529862]\n",
      " [ 29.77029096 233.97886677]\n",
      " [ 14.88514548   8.99908116]\n",
      " [ 14.88514548  80.99264931]\n",
      " [ 14.88514548  98.99081164]\n",
      " [ 29.77029096  89.99173047]\n",
      " [ 29.77029096 107.9898928 ]\n",
      " [ 29.77029096 125.98805513]\n",
      " [ 59.54058193 233.97886677]\n",
      " [ 44.65543645   8.99908116]\n",
      " [ 44.65543645  26.99724349]\n",
      " [ 44.65543645 152.98621746]\n",
      " [ 74.42572741 224.97886677]\n",
      " [ 59.54058193  35.99632466]\n",
      " [ 59.54058193 107.9898928 ]\n",
      " [ 59.54058193 125.98805513]\n",
      " [  0.         251.9770291 ]\n",
      " [  0.         269.97519142]\n",
      " [ 74.42572741  80.99264931]]\n"
     ]
    }
   ],
   "source": [
    "datapoints = []\n",
    "for i in range(len(elec_x)):\n",
    "    datapoints.append([elec_x[i], elec_y[i]])\n",
    "datapoints = np.asarray(datapoints)\n",
    "print(datapoints)"
   ]
  },
  {
   "cell_type": "markdown",
   "metadata": {},
   "source": [
    "##### Converting signals from each electrode in one frame to images"
   ]
  },
  {
   "cell_type": "code",
   "execution_count": 15,
   "metadata": {
    "scrolled": false
   },
   "outputs": [
    {
     "data": {
      "image/png": "[encoded data removed]",
      "text/plain": [
       "<Figure size 288x288 with 1 Axes>"
      ]
     },
     "metadata": {},
     "output_type": "display_data"
    }
   ],
   "source": [
    "fig, ax = plt.subplots(1, 1, figsize=(4,4))\n",
    "ax.set_facecolor(\"black\")\n",
    "ax.get_xaxis().set_visible(False)\n",
    "ax.get_yaxis().set_visible(False)\n",
    "ax.set_yticklabels([])\n",
    "ax.set_xticklabels([])\n",
    "frame_set = np.abs(frame_set)\n",
    "max_value = np.amax(frame_set)\n",
    "normalised_frame = frame_set/max_value\n",
    "colors = normalised_frame[394, :]\n",
    "ax.scatter(elec_x, elec_y, c=colors, s=10, cmap='Greys_r')\n",
    "plt.show()"
   ]
  },
  {
   "cell_type": "markdown",
   "metadata": {},
   "source": [
    "##### Better visualisation"
   ]
  },
  {
   "cell_type": "code",
   "execution_count": 57,
   "metadata": {},
   "outputs": [
    {
     "data": {
      "image/png": "[encoded data removed]",
      "text/plain": [
       "<Figure size 720x720 with 4 Axes>"
      ]
     },
     "metadata": {},
     "output_type": "display_data"
    }
   ],
   "source": [
    "%matplotlib inline\n",
    "\n",
    "fig, ((ax1, ax2), (ax3, ax4)) = plt.subplots(2, 2, figsize=(10,10))\n",
    "ax_list = [ax1, ax2, ax3, ax4]\n",
    "for ax in ax_list:\n",
    "    ax.get_yaxis().set_visible(False)\n",
    "    ax.get_xaxis().set_visible(False)\n",
    "    ax.set_facecolor(\"black\")\n",
    "    ax.set_yticklabels([])\n",
    "    ax.set_xticklabels([])\n",
    "frame_set = np.abs(frame_set)\n",
    "max_value = np.amax(frame_set)\n",
    "index = -1\n",
    "for i in [393, 394, 395, 396]:\n",
    "    index += 1\n",
    "    colors = normalised_frame[i, :]/max_value\n",
    "    ax_list[index].scatter(elec_x, elec_y, c=colors, s=8, cmap='Greys_r')\n",
    "plt.show()"
   ]
  },
  {
   "cell_type": "code",
   "execution_count": 13,
   "metadata": {},
   "outputs": [
    {
     "name": "stdout",
     "output_type": "stream",
     "text": [
      "       ch        t  Amplitude       x        y  \\\n",
      "0      26      395       5439  64.550  146.480   \n",
      "1      35      478       6359  31.835   67.175   \n",
      "2      58      515       6031  61.038  267.137   \n",
      "3      68      539       6580  12.200   63.673   \n",
      "4      65      577       4436  13.483  234.357   \n",
      "5      93      597       8700  44.558   28.816   \n",
      "6      98      604       8182  53.929  118.834   \n",
      "7      57      626       5685  12.352  278.124   \n",
      "8      60      807       6195   9.359  154.280   \n",
      "9      72      874       6763  63.996  139.242   \n",
      "10     95      905       7091  63.308  227.632   \n",
      "11     65      926       4859  19.547  234.016   \n",
      "12     87      937       6172  20.619  102.775   \n",
      "13     22      952       5672  64.872  272.721   \n",
      "14     58     1004       4476  57.126  265.010   \n",
      "15     35     1048       6736  31.944   64.590   \n",
      "16     13     1112       5073  49.026   79.671   \n",
      "17     96     1165       6312  60.978   29.642   \n",
      "18     39     1187       5938  11.467   64.993   \n",
      "19     41     1249       5043  27.671  220.609   \n",
      "20     57     1252       5788  10.478  280.493   \n",
      "21     93     1283       8502  48.394   28.436   \n",
      "22     97     1348       7333  52.712  112.496   \n",
      "23     26     1380       7458  62.690  150.813   \n",
      "24     48     1500       4904  58.413  263.221   \n",
      "25     35     1670       7376  32.773   69.646   \n",
      "26     60     1670       5376  12.372  153.880   \n",
      "27     46     1824       4882  20.749  108.662   \n",
      "28     57     1844       6105  10.948  276.466   \n",
      "29     39     1859       5814  12.366   65.052   \n",
      "...    ..      ...        ...     ...      ...   \n",
      "19311  13  1147999       5430  37.895   76.523   \n",
      "19312  29  1148004       4604  13.249   61.995   \n",
      "19313  58  1148009       4861  61.861  262.393   \n",
      "19314  93  1148052       6726  42.484   29.052   \n",
      "19315  33  1148064       4795  53.717  213.705   \n",
      "19316  86  1148080       3801  23.931   86.572   \n",
      "19317  37  1148218       6803  42.383  183.366   \n",
      "19318  95  1148279       8704  63.042  222.761   \n",
      "19319  98  1148331       6779  55.447  114.851   \n",
      "19320  46  1148382       5540  18.571  111.177   \n",
      "19321  51  1148626       4877   7.922   27.941   \n",
      "19322  88  1148663       4682  25.843   91.879   \n",
      "19323  35  1148904       6364  32.312   66.690   \n",
      "19324  48  1148907       4838  63.435  261.476   \n",
      "19325   1  1148942       4829  13.085  229.782   \n",
      "19326  93  1149066       6547  47.327   30.055   \n",
      "19327  58  1149073       4968  60.963  262.626   \n",
      "19328  95  1149115       7538  64.039  224.228   \n",
      "19329  13  1149150       6477  48.167   80.517   \n",
      "19330  37  1149223       8534  39.893  182.402   \n",
      "19331  68  1149355       5618  11.358   64.378   \n",
      "19332  11  1149424       6650   6.419   23.156   \n",
      "19333  72  1149531       5646  64.313  136.240   \n",
      "19334  97  1149543       5483  52.109  107.794   \n",
      "19335  96  1149642       5069  61.973   32.222   \n",
      "19336  87  1149671       4241  16.687  105.814   \n",
      "19337  58  1149685       5324  61.575  263.980   \n",
      "19338  48  1149753       5391  55.205  260.036   \n",
      "19339  35  1149777       7857  30.415   68.536   \n",
      "19340   7  1149786       6920  28.867  288.696   \n",
      "\n",
      "                                                   Shape  \n",
      "0      [-7, -2, 4, -3, -8, 0, -8, -19, -7, -9, -40, -...  \n",
      "1      [35, 33, 26, 10, -2, 2, 4, -5, -7, -10, -18, -...  \n",
      "2      [15, 16, 8, 2, -7, -20, -25, -23, -27, -35, -4...  \n",
      "3      [-27, -20, -14, -13, -27, -36, -38, -45, -50, ...  \n",
      "4      [9, 7, 11, 14, 4, -1, -8, -11, -3, -7, -23, -3...  \n",
      "5      [-14, -8, -12, -27, -27, -19, -31, -48, -53, -...  \n",
      "6      [-22, -25, -40, -42, -20, -15, -23, -4, 4, -21...  \n",
      "7      [-1, 7, 11, 1, -16, -15, -8, -26, -40, -42, -6...  \n",
      "8      [-16, -5, -16, -24, -10, 0, -6, -6, -2, -21, -...  \n",
      "9      [9, 2, 4, 6, -8, -28, -26, -16, -29, -44, -54,...  \n",
      "10     [-30, -16, 0, -7, -23, -22, -23, -38, -47, -49...  \n",
      "11     [-23, -22, -27, -23, -21, -34, -36, -35, -41, ...  \n",
      "12     [13, 12, 6, 4, 3, -1, -2, -8, -21, -21, -28, -...  \n",
      "13     [-23, -16, -15, -8, 5, 6, 1, -3, -13, -22, -25...  \n",
      "14     [-2, 4, 1, -11, -14, -17, -22, -19, -17, -28, ...  \n",
      "15     [8, -4, -19, -18, -23, -36, -38, -34, -36, -41...  \n",
      "16     [-21, -21, -20, -19, -12, -16, -30, -34, -35, ...  \n",
      "17     [-14, -16, -19, -19, -26, -25, -11, -22, -47, ...  \n",
      "18     [-17, -21, -24, -30, -30, -32, -42, -42, -48, ...  \n",
      "19     [-12, -25, -23, -11, -16, -32, -29, -24, -34, ...  \n",
      "20     [14, 12, 10, 6, 4, -2, -13, -21, -30, -40, -45...  \n",
      "21     [1, -1, -11, -19, -12, -2, -8, -20, -15, -10, ...  \n",
      "22     [-34, -33, -23, -21, -33, -40, -43, -42, -40, ...  \n",
      "23     [3, -4, -9, -10, -12, -12, -23, -43, -43, -32,...  \n",
      "24     [9, 4, 2, 2, -6, -16, -15, -13, -25, -40, -42,...  \n",
      "25     [12, 16, 3, -18, -31, -31, -26, -24, -38, -55,...  \n",
      "26     [-2, -10, -9, -6, -21, -39, -41, -42, -50, -58...  \n",
      "27     [-5, -8, -13, -10, -2, -2, -2, -1, -11, -18, -...  \n",
      "28     [29, 14, 10, 9, 1, -7, -15, -22, -28, -38, -54...  \n",
      "29     [-14, -18, -17, -8, -11, -19, -19, -17, -12, -...  \n",
      "...                                                  ...  \n",
      "19311  [-5, -11, -15, -22, -17, -6, -9, -15, -24, -43...  \n",
      "19312  [-18, -14, -16, -16, -18, -26, -25, -28, -32, ...  \n",
      "19313  [11, 9, -11, -16, -8, -9, -22, -30, -25, -31, ...  \n",
      "19314  [0, -1, -10, -11, -15, -28, -41, -48, -40, -30...  \n",
      "19315  [24, 13, 1, -4, -6, 0, 6, 5, 0, -10, -21, -33,...  \n",
      "19316  [-8, 8, 3, 0, 10, 15, 4, 0, 1, -1, -6, -19, -3...  \n",
      "19317  [-14, -9, -6, -6, -13, -17, -21, -28, -33, -51...  \n",
      "19318  [-13, -23, -16, -11, -20, -33, -37, -39, -47, ...  \n",
      "19319  [-26, -30, -32, -24, -17, -23, -29, -30, -40, ...  \n",
      "19320  [0, -15, -25, -18, -13, -27, -34, -32, -44, -5...  \n",
      "19321  [-22, -27, -31, -27, -29, -37, -34, -32, -43, ...  \n",
      "19322  [3, 4, 16, 15, 4, -1, -6, -13, -21, -31, -41, ...  \n",
      "19323  [7, 5, 6, 9, 0, -14, -17, -25, -29, -26, -39, ...  \n",
      "19324  [25, 24, 13, 10, 13, 6, -3, -10, -11, -9, -17,...  \n",
      "19325  [27, 22, 18, 22, 20, 10, 0, -7, -17, -19, -17,...  \n",
      "19326  [-18, -22, -27, -32, -30, -31, -34, -29, -28, ...  \n",
      "19327  [-7, 4, 8, -13, -28, -32, -38, -36, -36, -42, ...  \n",
      "19328  [-5, -17, -26, -24, -24, -25, -28, -34, -34, -...  \n",
      "19329  [-5, 0, -4, -13, -20, -17, -9, -8, -12, -15, -...  \n",
      "19330  [-3, 6, 5, -1, -10, -17, -17, -24, -38, -56, -...  \n",
      "19331  [-10, -15, -19, -22, -20, -12, -11, -20, -24, ...  \n",
      "19332  [-48, -38, -26, -39, -44, -28, -23, -34, -38, ...  \n",
      "19333  [-24, -14, -24, -29, -23, -19, -13, -20, -29, ...  \n",
      "19334  [-54, -64, -65, -60, -46, -48, -65, -57, -47, ...  \n",
      "19335  [-24, -39, -44, -30, -24, -29, -35, -41, -41, ...  \n",
      "19336  [0, 0, -8, -9, -5, -4, -5, -8, -10, -22, -40, ...  \n",
      "19337  [-2, 0, -14, -20, -16, -18, -21, -30, -39, -41...  \n",
      "19338  [-2, -19, -23, -10, -10, -23, -40, -52, -44, -...  \n",
      "19339  [12, 0, -3, -3, -12, -21, -25, -17, -14, -29, ...  \n",
      "19340  [-20, -32, -29, -14, -18, -28, -27, -24, -31, ...  \n",
      "\n",
      "[19341 rows x 6 columns]\n"
     ]
    }
   ],
   "source": [
    "print(H.spikes)"
   ]
  },
  {
   "cell_type": "code",
   "execution_count": 61,
   "metadata": {
    "scrolled": true
   },
   "outputs": [
    {
     "name": "stdout",
     "output_type": "stream",
     "text": [
      "[    394     477     514 ... 1149752 1149776 1149785]\n"
     ]
    }
   ],
   "source": [
    "list_times = H.spikes['t'].tolist()\n",
    "list_times = np.asarray(list_times) - 1\n",
    "list_ch = H.spikes['ch'].tolist()\n",
    "print(list_times)"
   ]
  },
  {
   "cell_type": "code",
   "execution_count": 62,
   "metadata": {},
   "outputs": [
    {
     "name": "stdout",
     "output_type": "stream",
     "text": [
      "19341 19341\n"
     ]
    }
   ],
   "source": [
    "x = H.spikes['x'].tolist()\n",
    "y = H.spikes['y'].tolist()\n",
    "\n",
    "print(len(x), len(list_times))"
   ]
  },
  {
   "cell_type": "code",
   "execution_count": 63,
   "metadata": {},
   "outputs": [],
   "source": [
    "frame_set = np.abs(frame_set)\n",
    "max_value = np.amax(frame_set)\n",
    "normalised_frame = frame_set/max_value"
   ]
  },
  {
   "cell_type": "code",
   "execution_count": 64,
   "metadata": {
    "scrolled": true
   },
   "outputs": [],
   "source": [
    "%matplotlib notebook\n",
    "\n",
    "plt.ioff()\n",
    "for i in range(len(list_times)):\n",
    "    fname = \"frames/frame_\"+str(list_times[i])+\"_\"+str(list_ch[i])+\".png\"\n",
    "    fig, ax = plt.subplots(1, 1, figsize=(2,2), facecolor='black')\n",
    "    ax.get_yaxis().set_visible(False)\n",
    "    ax.get_xaxis().set_visible(False)\n",
    "    ax.set_facecolor(\"black\")\n",
    "    colors = normalised_frame[i, :]\n",
    "    ax.scatter(elec_x, elec_y, c=colors, s=10, cmap='Greys_r')\n",
    "    fig.set_tight_layout(True)\n",
    "    fig.savefig(fname, frameon=False, facecolor='black')"
   ]
  },
  {
   "cell_type": "code",
   "execution_count": null,
   "metadata": {},
   "outputs": [],
   "source": []
  }
 ],
 "metadata": {
  "kernelspec": {
   "display_name": "Python 3",
   "language": "python",
   "name": "python3"
  },
  "language_info": {
   "codemirror_mode": {
    "name": "ipython",
    "version": 3
   },
   "file_extension": ".py",
   "mimetype": "text/x-python",
   "name": "python",
   "nbconvert_exporter": "python",
   "pygments_lexer": "ipython3",
   "version": "3.6.5"
  }
 },
 "nbformat": 4,
 "nbformat_minor": 2
}
