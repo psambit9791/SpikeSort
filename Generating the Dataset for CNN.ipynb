{
 "cells": [
  {
   "cell_type": "markdown",
   "metadata": {},
   "source": [
    "# Initial Setup"
   ]
  },
  {
   "cell_type": "code",
   "execution_count": 1,
   "metadata": {},
   "outputs": [],
   "source": [
    "import warnings\n",
    "warnings.filterwarnings(\"ignore\")\n",
    "import sys\n",
    "from herdingspikes.hs2 import HSDetection\n",
    "from herdingspikes.probe import HierlmannVisapyEmulationProbe\n",
    "import matplotlib.pyplot as plt\n",
    "import h5py\n",
    "import numpy as np\n",
    "from PIL import Image\n",
    "\n",
    "%matplotlib inline\n",
    "\n",
    "np.random.seed(0)"
   ]
  },
  {
   "cell_type": "code",
   "execution_count": 2,
   "metadata": {},
   "outputs": [],
   "source": [
    "# raw data location\n",
    "data_path = 'visapy_data.npy'"
   ]
  },
  {
   "cell_type": "code",
   "execution_count": 3,
   "metadata": {},
   "outputs": [
    {
     "data": {
      "text/plain": [
       "<torch._C.Generator at 0x7f3e7e96d690>"
      ]
     },
     "execution_count": 3,
     "metadata": {},
     "output_type": "execute_result"
    }
   ],
   "source": [
    "import torch\n",
    "import torch.nn as nn\n",
    "from torch.autograd import Variable\n",
    "from torch.utils import data\n",
    "\n",
    "torch.cuda.set_device(3)\n",
    "torch.manual_seed(0)"
   ]
  },
  {
   "cell_type": "code",
   "execution_count": 4,
   "metadata": {},
   "outputs": [],
   "source": [
    "import cv2\n",
    "import copy"
   ]
  },
  {
   "cell_type": "markdown",
   "metadata": {},
   "source": [
    "# Spike Detection"
   ]
  },
  {
   "cell_type": "code",
   "execution_count": 5,
   "metadata": {
    "scrolled": true
   },
   "outputs": [
    {
     "name": "stdout",
     "output_type": "stream",
     "text": [
      "File size: 122400102\n",
      "Number of channels: 102\n",
      "# Sampling rate: 32000\n",
      "# Localization On\n",
      "# Not Masking any Channels\n",
      "# Writing out extended detection info\n",
      "# Number of recorded channels: 102\n",
      "# Analysing frames: 1200001, Seconds:37.50003125\n",
      "# Frames before spike in cutout: 32\n",
      "# Frames after spike in cutout: 70\n",
      "# tcuts: 44 59\n",
      "# tInc: 50000\n",
      "# Analysing 50000 frames; from -44 to 50059\n",
      "# Analysing 50000 frames; from 49956 to 100059\n",
      "# Analysing 50000 frames; from 99956 to 150059\n",
      "# Analysing 50000 frames; from 149956 to 200059\n",
      "# Analysing 50000 frames; from 199956 to 250059\n",
      "# Analysing 50000 frames; from 249956 to 300059\n",
      "# Analysing 50000 frames; from 299956 to 350059\n",
      "# Analysing 50000 frames; from 349956 to 400059\n",
      "# Analysing 50000 frames; from 399956 to 450059\n",
      "# Analysing 50000 frames; from 449956 to 500059\n",
      "# Analysing 50000 frames; from 499956 to 550059\n",
      "# Analysing 50000 frames; from 549956 to 600059\n",
      "# Analysing 50000 frames; from 599956 to 650059\n",
      "# Analysing 50000 frames; from 649956 to 700059\n",
      "# Analysing 50000 frames; from 699956 to 750059\n",
      "# Analysing 50000 frames; from 749956 to 800059\n",
      "# Analysing 50000 frames; from 799956 to 850059\n",
      "# Analysing 50000 frames; from 849956 to 900059\n",
      "# Analysing 50000 frames; from 899956 to 950059\n",
      "# Analysing 50000 frames; from 949956 to 1000059\n",
      "# Analysing 50000 frames; from 999956 to 1050059\n",
      "# Analysing 50000 frames; from 1049956 to 1100059\n",
      "# Analysing 50000 frames; from 1099956 to 1150059\n",
      "# Time taken for detection: 0:00:04.854502\n",
      "# Time per frame: 0:00:00.004045\n",
      "# Time per sample: 0:00:00.000040\n",
      "Detected and read 19341 spikes.\n"
     ]
    }
   ],
   "source": [
    "# detection parameters\n",
    "to_localize = True\n",
    "cutout_start = 14\n",
    "cutout_end = 36\n",
    "threshold = 24\n",
    "file_directory = 'results/'\n",
    "file_name = 'ProcessedSpikes_visapy'\n",
    "\n",
    "Probe = HierlmannVisapyEmulationProbe('visapy_data.npy')\n",
    "H = HSDetection(Probe, to_localize, cutout_start, cutout_end, threshold,\n",
    "                maa=0, maxsl=12, minsl=3, ahpthr=0, out_file_name=file_name, \n",
    "                file_directory_name=file_directory, save_all=True)\n",
    "\n",
    "H.DetectFromRaw()\n",
    "H.LoadDetected()"
   ]
  },
  {
   "cell_type": "markdown",
   "metadata": {},
   "source": [
    "# Loading and Setting up Ground Truths"
   ]
  },
  {
   "cell_type": "markdown",
   "metadata": {},
   "source": [
    "## Waveforms"
   ]
  },
  {
   "cell_type": "code",
   "execution_count": 6,
   "metadata": {},
   "outputs": [],
   "source": [
    "data = np.load('visapy_data.npy')"
   ]
  },
  {
   "cell_type": "code",
   "execution_count": 7,
   "metadata": {},
   "outputs": [
    {
     "name": "stdout",
     "output_type": "stream",
     "text": [
      "Frame shape:  (1200001, 102)\n",
      "Whole Dataset:  [[  4 -18   3 ...   5 -11  -4]\n",
      " [  3 -26  -4 ...   6 -13   6]\n",
      " [  3 -25  -6 ...   5 -18   3]\n",
      " ...\n",
      " [  1  32  -5 ...   7   2   0]\n",
      " [-17  27  -9 ...  12  -1  11]\n",
      " [-13  21  -8 ...  15   0  10]]\n"
     ]
    }
   ],
   "source": [
    "frame_set = data.reshape((1200001,102))\n",
    "print(\"Frame shape: \", frame_set.shape)\n",
    "print(\"Whole Dataset: \", frame_set)"
   ]
  },
  {
   "cell_type": "markdown",
   "metadata": {},
   "source": [
    "## Ground Truths"
   ]
  },
  {
   "cell_type": "code",
   "execution_count": 8,
   "metadata": {},
   "outputs": [
    {
     "name": "stdout",
     "output_type": "stream",
     "text": [
      "(64441, 2)\n",
      "(2, 56)\n"
     ]
    }
   ],
   "source": [
    "somapos = np.loadtxt('ViSAPy_somapos.gdf')\n",
    "ground_truth = np.loadtxt('ViSAPy_ground_truth.gdf')\n",
    "\n",
    "ground_truth = ground_truth.astype(int)\n",
    "somapos = np.array([somapos[:,0], somapos[:,1]])\n",
    "\n",
    "print(ground_truth.shape)\n",
    "print(somapos.shape)"
   ]
  },
  {
   "cell_type": "markdown",
   "metadata": {},
   "source": [
    "## Generate Channel Time Combinations"
   ]
  },
  {
   "cell_type": "code",
   "execution_count": 9,
   "metadata": {},
   "outputs": [
    {
     "name": "stdout",
     "output_type": "stream",
     "text": [
      "19341 19341\n"
     ]
    }
   ],
   "source": [
    "list_times = H.spikes['t'].tolist()\n",
    "list_ch = H.spikes['ch'].tolist()\n",
    "\n",
    "x = H.spikes['x'].tolist()\n",
    "y = H.spikes['y'].tolist()\n",
    "\n",
    "print(len(x), len(list_times))\n",
    "\n",
    "# A list of all time and channel combinations which have spikes\n",
    "list_times_ch = []\n",
    "for i in range(len(list_times)):\n",
    "    list_times_ch.append((list_times[i], list_ch[i]))"
   ]
  },
  {
   "cell_type": "markdown",
   "metadata": {},
   "source": [
    "## Electrode Positions"
   ]
  },
  {
   "cell_type": "code",
   "execution_count": 10,
   "metadata": {},
   "outputs": [],
   "source": [
    "x_path = 'z_integer.npy'\n",
    "y_path = 'y_integer.npy'\n",
    "elec_x_int = np.load(x_path)\n",
    "elec_y_int = np.load(y_path)"
   ]
  },
  {
   "cell_type": "code",
   "execution_count": 11,
   "metadata": {},
   "outputs": [],
   "source": [
    "ky = 9 / np.max(np.diff(sorted(elec_y_int)))\n",
    "elec_x = elec_x_int * ky\n",
    "elec_y = elec_y_int * ky\n",
    "elec_x -= np.min(elec_x)\n",
    "elec_y -= np.min(elec_y)"
   ]
  },
  {
   "cell_type": "code",
   "execution_count": 12,
   "metadata": {
    "scrolled": true
   },
   "outputs": [
    {
     "name": "stdout",
     "output_type": "stream",
     "text": [
      "[[ 59.54058193 179.98346095]\n",
      " [  0.         233.97886677]\n",
      " [ 74.42572741 242.97794793]\n",
      " [ 59.54058193  17.99816233]\n",
      " [ 29.77029096  35.99632466]\n",
      " [ 59.54058193 143.98621746]\n",
      " [ 44.65543645 242.97794793]\n",
      " [ 14.88514548 296.97243492]\n",
      " [ 74.42572741  44.99540582]\n",
      " [  0.         107.9898928 ]\n",
      " [ 29.77029096 143.98621746]\n",
      " [  0.          17.99816233]\n",
      " [ 59.54058193  53.99448698]\n",
      " [ 44.65543645  80.99264931]\n",
      " [ 74.42572741 170.98437979]\n",
      " [ 44.65543645 206.98070444]\n",
      " [  0.         197.98162328]\n",
      " [ 14.88514548 278.97427259]\n",
      " [ 44.65543645 296.97243492]\n",
      " [ 14.88514548  44.99540582]\n",
      " [ 59.54058193  89.99173047]\n",
      " [  0.         215.9797856 ]\n",
      " [ 74.42572741 278.97427259]\n",
      " [ 14.88514548  26.99724349]\n",
      " [ 44.65543645  44.99540582]\n",
      " [ 44.65543645  98.99081164]\n",
      " [ 74.42572741 152.98621746]\n",
      " [ 29.77029096   0.        ]\n",
      " [ 74.42572741  26.99724349]\n",
      " [  0.          53.99448698]\n",
      " [ 44.65543645 134.98713629]\n",
      " [ 44.65543645  62.99356815]\n",
      " [ 59.54058193 287.97335375]\n",
      " [ 59.54058193 215.9797856 ]\n",
      " [ 59.54058193 251.9770291 ]\n",
      " [ 29.77029096  71.99356815]\n",
      " [ 44.65543645 260.97611026]\n",
      " [ 44.65543645 188.98254211]\n",
      " [ 14.88514548 134.98713629]\n",
      " [ 14.88514548  62.99356815]\n",
      " [ 29.77029096 287.97335375]\n",
      " [ 29.77029096 215.9797856 ]\n",
      " [ 29.77029096 179.98346095]\n",
      " [ 14.88514548 260.97611026]\n",
      " [ 14.88514548 188.98254211]\n",
      " [ 14.88514548 152.98621746]\n",
      " [ 14.88514548 116.98897397]\n",
      " [ 74.42572741  98.99081164]\n",
      " [ 59.54058193 269.97519142]\n",
      " [ 74.42572741 188.98254211]\n",
      " [  0.          89.99173047]\n",
      " [  0.          35.99632466]\n",
      " [ 44.65543645 278.97427259]\n",
      " [ 44.65543645 224.97886677]\n",
      " [ 74.42572741 206.98070444]\n",
      " [ 44.65543645 116.98897397]\n",
      " [ 29.77029096  17.99816233]\n",
      " [  0.         287.97335375]\n",
      " [ 74.42572741 260.97611026]\n",
      " [ 59.54058193 197.98162328]\n",
      " [  0.         161.98529862]\n",
      " [  0.         143.98621746]\n",
      " [ 74.42572741  62.99356815]\n",
      " [ 59.54058193   0.        ]\n",
      " [  0.           0.        ]\n",
      " [ 14.88514548 242.97794793]\n",
      " [ 44.65543645 170.98437979]\n",
      " [ 74.42572741 116.98897397]\n",
      " [  0.          71.99356815]\n",
      " [ 74.42572741   8.99908116]\n",
      " [ 29.77029096 251.9770291 ]\n",
      " [  0.         179.98346095]\n",
      " [ 74.42572741 134.98713629]\n",
      " [ 59.54058193  71.99356815]\n",
      " [ 29.77029096  53.99448698]\n",
      " [ 29.77029096 269.97519142]\n",
      " [ 74.42572741 296.97243492]\n",
      " [ 29.77029096 197.98162328]\n",
      " [ 59.54058193 161.98529862]\n",
      " [ 14.88514548 170.98437979]\n",
      " [ 14.88514548 206.98070444]\n",
      " [ 14.88514548 224.97886677]\n",
      " [  0.         125.98805513]\n",
      " [ 29.77029096 161.98529862]\n",
      " [ 29.77029096 233.97886677]\n",
      " [ 14.88514548   8.99908116]\n",
      " [ 14.88514548  80.99264931]\n",
      " [ 14.88514548  98.99081164]\n",
      " [ 29.77029096  89.99173047]\n",
      " [ 29.77029096 107.9898928 ]\n",
      " [ 29.77029096 125.98805513]\n",
      " [ 59.54058193 233.97886677]\n",
      " [ 44.65543645   8.99908116]\n",
      " [ 44.65543645  26.99724349]\n",
      " [ 44.65543645 152.98621746]\n",
      " [ 74.42572741 224.97886677]\n",
      " [ 59.54058193  35.99632466]\n",
      " [ 59.54058193 107.9898928 ]\n",
      " [ 59.54058193 125.98805513]\n",
      " [  0.         251.9770291 ]\n",
      " [  0.         269.97519142]\n",
      " [ 74.42572741  80.99264931]]\n"
     ]
    }
   ],
   "source": [
    "datapoints = []\n",
    "for i in range(len(elec_x)):\n",
    "    datapoints.append([elec_x[i], elec_y[i]])\n",
    "datapoints = np.asarray(datapoints)\n",
    "print(datapoints)"
   ]
  },
  {
   "cell_type": "markdown",
   "metadata": {},
   "source": [
    "# Generate Images - ONLY USE FIRST TIME!"
   ]
  },
  {
   "cell_type": "markdown",
   "metadata": {},
   "source": [
    "# Loading Images"
   ]
  },
  {
   "cell_type": "code",
   "execution_count": 13,
   "metadata": {},
   "outputs": [],
   "source": [
    "# Creates a correspondence between HS2 and Ground Truth\n",
    "\n",
    "new_list_times_ch = []\n",
    "new_location = {}\n",
    "neuron_channels = {}\n",
    "\n",
    "for i, val in enumerate(list_times_ch):\n",
    "    for ind, j in enumerate(ground_truth[:, 1]):\n",
    "        if val[0] in range(j-2, j+2):\n",
    "            neuron = ground_truth[ind, 0] - 1\n",
    "            new_list_times_ch.append((val[0], val[1]))\n",
    "            new_location[(val[0], val[1])] = (somapos[0, neuron], somapos[1, neuron])\n",
    "            try:\n",
    "                neuron_channels[neuron].append((val[0], val[1]))\n",
    "            except:\n",
    "                neuron_channels[neuron] = [(val[0], val[1])]\n",
    "            break"
   ]
  },
  {
   "cell_type": "code",
   "execution_count": 14,
   "metadata": {},
   "outputs": [],
   "source": [
    "image_data = {}\n",
    "\n",
    "for i in range(len(new_list_times_ch)):\n",
    "    filename = \"frames_small_attention/frame_\"+str(new_list_times_ch[i][0])+\"_\"+str(new_list_times_ch[i][1])+\".png\"\n",
    "    temp_pic = cv2.imread(filename)\n",
    "    temp_pic = cv2.cvtColor(temp_pic, cv2.COLOR_RGB2GRAY)\n",
    "    temp_pic = temp_pic/255\n",
    "    image_data[(new_list_times_ch[i][0], new_list_times_ch[i][1])] = temp_pic"
   ]
  },
  {
   "cell_type": "markdown",
   "metadata": {},
   "source": [
    "# Removing False Triggers from Neuron List"
   ]
  },
  {
   "cell_type": "code",
   "execution_count": 15,
   "metadata": {},
   "outputs": [],
   "source": [
    "# Filter only relevant frames\n",
    "from collections import Counter\n",
    "\n",
    "updated_neuron_channels = {}\n",
    "for i in neuron_channels.keys():\n",
    "    updated_neuron_channels[i] = []\n",
    "    elec_list = np.array(neuron_channels[i])[:, 1]\n",
    "    occ = Counter(elec_list)\n",
    "    final_elec_list = []\n",
    "    for d in occ.keys():\n",
    "        if occ[d] > 80:\n",
    "            final_elec_list.append(d)\n",
    "    for j in final_elec_list:\n",
    "        for k in neuron_channels[i]:\n",
    "            if k[1] == j:\n",
    "                updated_neuron_channels[i].append(k)"
   ]
  },
  {
   "cell_type": "code",
   "execution_count": 16,
   "metadata": {},
   "outputs": [
    {
     "name": "stdout",
     "output_type": "stream",
     "text": [
      "8977\n"
     ]
    }
   ],
   "source": [
    "# New list of times and channels\n",
    "\n",
    "list_loc_ch = []\n",
    "for i in updated_neuron_channels.values():\n",
    "    list_loc_ch = list_loc_ch + i\n",
    "print(len(list_loc_ch))"
   ]
  },
  {
   "cell_type": "code",
   "execution_count": 18,
   "metadata": {},
   "outputs": [
    {
     "name": "stdout",
     "output_type": "stream",
     "text": [
      "6732 449 1796\n"
     ]
    }
   ],
   "source": [
    "import random\n",
    "\n",
    "random.seed(0)\n",
    "random.shuffle(list_loc_ch)\n",
    "\n",
    "train_lim = (int)(0.75*len(list_loc_ch))\n",
    "val_lim = (int)(0.80*len(list_loc_ch))\n",
    "\n",
    "list_times_ch_train = list_loc_ch[:train_lim]\n",
    "list_times_ch_val = list_loc_ch[train_lim:val_lim]\n",
    "list_times_ch_test = list_loc_ch[val_lim:]\n",
    "\n",
    "print(len(list_times_ch_train),len(list_times_ch_val), len(list_times_ch_test))"
   ]
  },
  {
   "cell_type": "code",
   "execution_count": 21,
   "metadata": {},
   "outputs": [
    {
     "data": {
      "text/plain": [
       "dict_keys([46, 41, 12, 49, 27, 43, 45, 28, 52, 53, 22, 21, 10, 34, 5, 35, 11, 50, 48, 47, 54, 18, 38, 9, 32, 13, 42, 1, 40, 31, 37, 29, 2, 39, 55, 24, 17, 0, 6, 8, 26, 7, 23, 36, 14, 3, 51, 25, 30, 15, 19, 33, 44, 20, 16, 4])"
      ]
     },
     "execution_count": 21,
     "metadata": {},
     "output_type": "execute_result"
    }
   ],
   "source": [
    "updated_neuron_channels.keys()"
   ]
  },
  {
   "cell_type": "code",
   "execution_count": null,
   "metadata": {},
   "outputs": [],
   "source": []
  }
 ],
 "metadata": {
  "kernelspec": {
   "display_name": "Python 3",
   "language": "python",
   "name": "python3"
  },
  "language_info": {
   "codemirror_mode": {
    "name": "ipython",
    "version": 3
   },
   "file_extension": ".py",
   "mimetype": "text/x-python",
   "name": "python",
   "nbconvert_exporter": "python",
   "pygments_lexer": "ipython3",
   "version": "3.6.5"
  }
 },
 "nbformat": 4,
 "nbformat_minor": 2
}
